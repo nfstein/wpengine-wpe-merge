{
 "cells": [
  {
   "cell_type": "code",
   "execution_count": 47,
   "metadata": {
    "collapsed": true
   },
   "outputs": [],
   "source": [
    "from pandas import to_datetime #good flexible date interpereter\n",
    "from requests import get\n",
    "from time import sleep\n",
    "import sys\n",
    "import os\n",
    "import csv"
   ]
  },
  {
   "cell_type": "code",
   "execution_count": 13,
   "metadata": {
    "collapsed": true
   },
   "outputs": [],
   "source": [
    "input_filepath = \"fail_tests.csv\"\n",
    "#input_filepath = \"test-data.csv\"\n",
    "output_filepath = \"out.csv\""
   ]
  },
  {
   "cell_type": "code",
   "execution_count": 4,
   "metadata": {},
   "outputs": [
    {
     "data": {
      "text/plain": [
       "(False, {}, 'not a valid account id')"
      ]
     },
     "execution_count": 4,
     "metadata": {},
     "output_type": "execute_result"
    }
   ],
   "source": [
    "def verify_and_clean_input(input_dict):\n",
    "    \"\"\"\n",
    "    given dictionary with [\"Account ID\", \"Created On\", \"First Name\"] keys,\n",
    "    convert Account ID to integer and Created On to formatted datestring (or \"\" if invalid)\n",
    "    \n",
    "    >>> verify_and_clean_input({\"Account ID\": 314159,\"Account Name\": \"superman\",\"First Name\": \"Ka-el\",\"Created On\": \"1/12/13\"})\n",
    "    (True, {'Account ID': 314159, 'Created On': '01/12/13', 'First Name': 'Ka-el'}, '')\n",
    "    >>> verify_and_clean_input({'Account ID': 'asdf', 'First Name': '', 'Created On': ' None'})\n",
    "    (False, {}, 'not a valid account id')\n",
    "    >>> verify_and_clean_input({'Account ID': '', 'First Name': '', 'Created On': ' whenever'})\n",
    "    (False, {}, 'not a valid account id')\n",
    "    >>> verify_and_clean_input({'Account ID': 210, 'First Name': '', 'Created On': ' whenever'})\n",
    "    (True, {'Account ID': 210, 'Created On': '', 'First Name': ''}, '')\n",
    "    \"\"\"\n",
    "    \n",
    "    output_dict = {}\n",
    "    try:\n",
    "        output_dict[\"Account ID\"] = int(input_dict[\"Account ID\"])\n",
    "        if output_dict[\"Account ID\"] < 0:\n",
    "            return False, {}, \"not a valid account id\"\n",
    "    except ValueError:\n",
    "        return False, {}, \"not a valid account id\"\n",
    "    \n",
    "    try:\n",
    "        output_dict[\"Created On\"] = to_datetime(input_dict[\"Created On\"], errors='coerce').strftime(\"%x\")\n",
    "    except ValueError:\n",
    "        output_dict[\"Created On\"] = \"\"\n",
    "    \n",
    "    output_dict[\"First Name\"] = input_dict[\"First Name\"]\n",
    "        \n",
    "    return True, output_dict, \"\"\n",
    "\n",
    "verify_and_clean_input({\"Account ID\": 314159,\"Account Name\": \"superman\",\"First Name\": \"Ka-el\",\"Created On\": \"1/12/13\"})\n",
    "#(True, {'Account ID': 314159, 'Created On': '01/12/13', 'First Name': 'Ka-el'},'')\n",
    "verify_and_clean_input({'Account ID': 'asdf', 'First Name': '', 'Created On': ' None'})\n",
    "\n",
    "#verify_and_clean_input({'Account ID': '', 'First Name': '', 'Created On': ' whenever'})\n",
    "\n",
    "#verify_and_clean_input({'Account ID': 210, 'First Name': '', 'Created On': ' whenever'})\n",
    "#(True, {'Account ID': 210, 'Created On': '', 'First Name': ''}, '')\n"
   ]
  },
  {
   "cell_type": "code",
   "execution_count": 5,
   "metadata": {},
   "outputs": [
    {
     "name": "stdout",
     "output_type": "stream",
     "text": [
      "({'Account ID': 314159, 'Created On': '01/12/13', 'First Name': 'Ka-el', 'Status': 'good', 'Status Set On': '01/12/12'}, 'Processed Account ID: 314159 - Status: good ')\n",
      "({'Account ID': 271, 'Status': 'good', 'Status Set On': '03/22/11'}, 'Processed Account ID: 271 - Status: good ')\n",
      "({'Account ID': 21, 'Status': '', 'Status Set On': ''}, 'Account ID - 21 - Not found.')\n",
      "({'Account ID': 21, 'Status': '', 'Status Set On': ''}, 'No created_on date included for Account ID - 21')\n"
     ]
    }
   ],
   "source": [
    "def extend(input_dict, response_dict):\n",
    "    \"\"\"\n",
    "    folds status and created_on from response into input and returns a status message\n",
    "    input_dict = {\"Account ID\": int} \n",
    "    response_dict = {\"message\": str, \"status\": str, \"created_on\": str} from a query response dict\n",
    "    -> {\"Account ID\": int, \"Status\": str, \"Status Set On\": str}, message\n",
    "    where \"Status Set On\" is created_on and message is a status message from the response or from lack of status/date\n",
    "    \n",
    "    examples:       # verified with doctest\n",
    "    >>> extend({'Account ID': 314159, 'Created On': '01/12/13', 'First Name': 'Ka-el'}, {'account_id': 314159, 'status': 'good', 'created_on': '2012-01-12', 'message': '', 'valid': True})\n",
    "    ({'Account ID': 314159, 'Created On': '01/12/13', 'First Name': 'Ka-el', 'Status': 'good', 'Status Set On': '01/12/12'}, 'Processed Account ID: 314159 - Status: good ')\n",
    "    >>> extend({\"Account ID\": 271},{'message': \"\", \"valid\": True, 'status': 'good', 'created_on': '2011-03-22'})\n",
    "    ({'Account ID': 271, 'Status': 'good', 'Status Set On': '03/22/11'}, 'Processed Account ID: 271 - Status: good ')\n",
    "    >>> extend({\"Account ID\": 21},{'detail': 'Not found.', 'message': 'Account ID - 21 - Not found.', 'valid': False})\n",
    "    ({'Account ID': 21, 'Status': '', 'Status Set On': ''}, 'Account ID - 21 - Not found.')\n",
    "    >>> extend({\"Account ID\": 21},{'detail': 'Not found.', 'message': 'Account ID - 21 - Not found.', 'valid': True})\n",
    "    ({'Account ID': 21, 'Status': '', 'Status Set On': ''}, 'No created_on date included for Account ID - 21')\n",
    "\n",
    "    \"\"\"\n",
    "    \n",
    "    output_dict = input_dict\n",
    "    output_dict[\"Status\"] = \"\"\n",
    "    output_dict[\"Status Set On\"] = \"\"\n",
    "    message = \"\"\n",
    "    account_id = input_dict[\"Account ID\"]\n",
    "\n",
    "    if response_dict[\"valid\"]: \n",
    "        # set Status Set On to response's created_on value for account_id\n",
    "        # could introduce check for status in set (\"good\", \"bad\", \"\")\n",
    "        if \"status\" in response_dict:\n",
    "            output_dict[\"Status\"] = response_dict[\"status\"]\n",
    "            message = f\"Processed Account ID: {account_id} - Status: {response_dict['status']} \"\n",
    "        else:\n",
    "            message = f\"No status data included for Account ID - {account_id} \"\n",
    "            \n",
    "        # only try and set status date if status successfully set\n",
    "        if \"created_on\" in response_dict and \"status\" in response_dict:\n",
    "            try:\n",
    "                # set Status Set On to response's created_on value for account_id\n",
    "                # here choosing to write \"\" in event of bad date\n",
    "                output_dict[\"Status Set On\"] = \\\n",
    "                    to_datetime(response_dict[\"created_on\"], errors='raise')\\\n",
    "                    .strftime(\"%x\")\n",
    "            except ValueError:\n",
    "                # has status and created on but created on not valid\n",
    "                message = f\"Invalid date included for Account ID - {account_id}\"\n",
    "        else:\n",
    "            if \"status\" not in response_dict:\n",
    "                message = f\"No created_on date included for Account ID - {account_id}\"\n",
    "    else:\n",
    "        message = response_dict[\"message\"]\n",
    "    return output_dict, message\n",
    "\n",
    "print(extend({'Account ID': 314159, 'Created On': '01/12/13', 'First Name': 'Ka-el'}, {'account_id': 314159, 'status': 'good', 'created_on': '2012-01-12', 'message': '', 'valid': True}))\n",
    "#({'Account ID': 314159, 'Created On': '01/12/13', 'First Name': 'Ka-el', 'Status': 'good', 'Status Set On': '01/12/12'}, 'Processed Account ID: 314159 - Status: good ')\n",
    "print(extend({\"Account ID\": 271},{'message': \"\", \"valid\": True, 'status': 'good', 'created_on': '2011-03-22'}))\n",
    "#({'Account ID': 271, 'Status': 'good', 'Status Set On': '03/22/11'}, 'Processed Account ID: 271 - Status: good ')\n",
    "print(extend({\"Account ID\": 21},{'detail': 'Not found.', 'message': 'Account ID - 21 - Not found.', 'valid': False}))\n",
    "#({'Account ID': 21, 'Status': '', 'Status Set On': ''}, 'Account ID - 21 - Not found.')\n",
    "print(extend({\"Account ID\": 21},{'detail': 'Not found.', 'message': 'Account ID - 21 - Not found.', 'valid': True}))\n",
    "#({'Account ID': 21, 'Status': '', 'Status Set On': ''}, 'No created_on date included for Account ID - 21')\n"
   ]
  },
  {
   "cell_type": "code",
   "execution_count": 6,
   "metadata": {},
   "outputs": [
    {
     "name": "stdout",
     "output_type": "stream",
     "text": [
      "{'account_id': 271, 'status': 'good', 'created_on': '2011-03-22', 'message': '', 'valid': True}\n",
      "{'account_id': 314159, 'status': 'good', 'created_on': '2012-01-12', 'message': '', 'valid': True}\n",
      "{'detail': 'Not found.', 'message': 'Query - http://interview.wpengine.io/v1/accounts/21 - Not found.', 'valid': False}\n"
     ]
    }
   ],
   "source": [
    "# query accounts/account_id and determine if non-error json is returned\n",
    "# returns validity of response and the response\n",
    "def query(account_id, base_url=\"http://interview.wpengine.io/v1/accounts\"):\n",
    "    \n",
    "    data_is_valid = True\n",
    "    query_success = False\n",
    "    returned_dict = {}\n",
    "    message = \"\"\n",
    "    attempt_num = 0\n",
    "    \n",
    "    while (attempt_num < 3) and not query_success:\n",
    "        sleep(3**attempt_num-1) #backoff [0,2,8] seconds\n",
    "        attempt_num += 1\n",
    "        query_string = f\"{base_url}/{account_id}\"\n",
    "        request = get(query_string)\n",
    "\n",
    "        #successful query case\n",
    "        if request.status_code == 200:\n",
    "            returned_dict = request.json()\n",
    "            data_is_valid = True\n",
    "            query_success = True\n",
    "        else:\n",
    "            data_is_valid = False\n",
    "        \n",
    "        if request.status_code > 200:\n",
    "            try: # check parseable response\n",
    "                returned_dict = request.json()\n",
    "                message = f\"Query - {query_string} - {returned_dict['detail']}\"\n",
    "                query_success = True # but data not found\n",
    "            except ValueError:\n",
    "                message = f\"Response not json parseable for query {query_string}\"\n",
    "                query_success = False # requery\n",
    "    \n",
    "    returned_dict[\"message\"] = message\n",
    "    returned_dict[\"valid\"] = data_is_valid\n",
    "    return returned_dict\n",
    "\n",
    "print(query(271))\n",
    "#{'account_id': 271, 'status': 'good', 'created_on': '2011-03-22', 'message': '', 'valid': True}\n",
    "print(query(314159))\n",
    "#{'account_id': 314159, 'status': 'good', 'created_on': '2012-01-12', 'message': '', 'valid': True}\n",
    "print(query(21))\n",
    "#{'detail': 'Not found.', 'message': 'Account ID - 21 - Not found.', 'valid': False}"
   ]
  },
  {
   "cell_type": "code",
   "execution_count": 64,
   "metadata": {},
   "outputs": [
    {
     "data": {
      "text/plain": [
       "(True,\n",
       " 'test-data.csv',\n",
       " 'out.csv',\n",
       " 'http://interview.wpengine.io/v1/accounts',\n",
       " '')"
      ]
     },
     "execution_count": 64,
     "metadata": {},
     "output_type": "execute_result"
    }
   ],
   "source": [
    "def handle_arguments(args):\n",
    "    \"\"\"\n",
    "    check for validity of included arguments, create directory for output, \n",
    "    determine whether or not to overwrite the base url and whether url is valid\n",
    "    args[0] meta data\n",
    "    args[1] input_filepath\n",
    "    args[2] output_filepath\n",
    "    args[3] url *optional\n",
    "    \n",
    "    few examples because exhaustive examples would rely on an specified\n",
    "    input file existing\n",
    "    example:\n",
    "    nontesting >> handle_arguments([\"\",\"test-data.csv\", \"out.csv\"])\n",
    "    (True, 'test-data.csv', 'out.csv', 'http://interview.wpengine.io/v1/accounts', '')\n",
    "    nontesting >> handle_arguments([\"\",\"test-data.csv\", \"out.csv\", \"www.google.com\"])\n",
    "    (True, 'test-data.csv', 'out.csv', 'www.google.com', '')\n",
    "    >>> handle_arguments([\"\",\"\"])\n",
    "    (False, '', '', '', 'ERROR - invoke program as: wpe_merge <input_filepath.csv> <output_filepath.csv> <optional: base_url for queries>')\n",
    "\n",
    "    \"\"\"\n",
    "    \n",
    "    valid = False\n",
    "    \n",
    "    if len(args) != 3 and len(args) != 4:\n",
    "        return False,\"\",\"\",\"\",\"ERROR - invoke program as: wpe_merge <input_filepath.csv> <output_filepath.csv> <optional: base_url for queries>\"\n",
    "    input_filepath = args[1]\n",
    "    output_filepath = args[2]\n",
    "    \n",
    "    \n",
    "    if len(args) == 4:\n",
    "        base_url = args[3]\n",
    "        # / between base_url and account_id added in query\n",
    "        if base_url[-1] == \"/\": \n",
    "            base_url=base_url[:-1]\n",
    "        #validate url\n",
    "        try:\n",
    "            test_status = get(base_url).status_code\n",
    "            if test_status != 200:\n",
    "                return False,\"\",\"\",\"\",\"ERROR - Included Url invalid, returns {test_status}\"\n",
    "        except: #MissingSchema exception not found\n",
    "            return False,\"\",\"\",\"\",\"ERROR - Included Url invalid\"\n",
    "    else:\n",
    "        base_url = \"http://interview.wpengine.io/v1/accounts\"\n",
    "    \n",
    "    if not os.path.exists(input_filepath):\n",
    "        return  False,\"\",\"\",\"\", f\"ERROR - input filepath {input_filepath} does not exist\"\n",
    "        \n",
    "    if input_filepath[-4:] != \".csv\" or output_filepath[-4:] != \".csv\" or input_filepath == output_filepath: \n",
    "        return  False,\"\",\"\",\"\", \"ERROR - filepaths must be unique valid csv files\"\n",
    "    \n",
    "    path_to_output = output_filepath.rpartition(\"/\")[0]\n",
    "    if path_to_output != \"\":\n",
    "        os.makedirs(path_to_output, exist_ok=True)\n",
    "    valid = True\n",
    "    return valid, input_filepath, output_filepath, base_url,\"\"\n",
    "handle_arguments([\"\",\"test-data.csv\", \"out.csv\"])\n",
    "\n",
    "#handle_arguments([\"test-data.csv\", \" \", \"www.google.com\"])"
   ]
  },
  {
   "cell_type": "code",
   "execution_count": 60,
   "metadata": {
    "collapsed": true
   },
   "outputs": [],
   "source": [
    "def main(args):\n",
    "    \n",
    "    \"\"\"\n",
    "    given an input csv and and output path, read input csv and combine with data from api\n",
    "    and stream results to csv file at output\n",
    "    \n",
    "    input csv header form of [\"Account ID\", \"First Name\", \"Created On\"]\n",
    "    output csv header form of [\"Account ID\", \"First Name\", \"Created On\", \"Status\", \"Status Set On\"]\n",
    "    \"\"\"\n",
    "    \n",
    "    valid_input, input_filepath, output_filepath, base_url, message = handle_arguments(args)\n",
    "    if not valid_input:\n",
    "        return print(message)\n",
    "    \n",
    "    with open(input_filepath, newline=\"\") as input_csv:\n",
    "        csvreader = csv.reader(input_csv, delimiter=\",\",)\n",
    "\n",
    "        needed_input_columns = [\"Account ID\",\"First Name\", \"Created On\"]\n",
    "        needed_output_columns = [\"Account ID\",\"First Name\", \"Created On\", \"Status\", \"Status Set On\"]\n",
    "        headers = next(csvreader) #grab first row as headers\n",
    "        if not set(needed_input_columns).issubset(headers):\n",
    "            print('ERROR - input csv must contain columns [\"Account ID\",\"First Name\", \"Created On\"] as headers')\n",
    "\n",
    "        with open(output_filepath, mode = \"w\", newline = \"\") as output_csv:\n",
    "            csvwriter = csv.DictWriter(output_csv, fieldnames = needed_output_columns)\n",
    "            csvwriter.writeheader()\n",
    "\n",
    "            index_of = {}\n",
    "            for index,header in enumerate(headers):\n",
    "                index_of[header] = index\n",
    "            write_dict = {}\n",
    "\n",
    "            #Loop through inputfile\n",
    "            for row in csvreader:\n",
    "                still_valid = True\n",
    "                \n",
    "                if len(row) != len(headers): # verify csv row\n",
    "                    message = \"ERROR - csv row has incomplete data\"\n",
    "                    still_valid = False\n",
    "                    \n",
    "                if still_valid: #get input from csv\n",
    "                    # extract data from row, columns can be in any order\n",
    "                    for column in needed_input_columns:\n",
    "                        write_dict[column] = row[index_of[column]]\n",
    "                    still_valid, write_dict, message = verify_and_clean_input(write_dict)\n",
    "                    \n",
    "                if still_valid: #QUERY and combine\n",
    "                    write_dict, message = extend(write_dict, query(write_dict[\"Account ID\"], base_url))\n",
    "                    #only write to csv if all input data valid, query data nulled out if invalid\n",
    "                    csvwriter.writerow(write_dict) \n",
    "                    \n",
    "                print(message)\n",
    "\n",
    "            output_csv.close()\n",
    "        input_csv.close()\n",
    "        "
   ]
  },
  {
   "cell_type": "code",
   "execution_count": 61,
   "metadata": {},
   "outputs": [
    {
     "name": "stdout",
     "output_type": "stream",
     "text": [
      "ERROR - Included Url invalid\n"
     ]
    }
   ],
   "source": [
    "main([\"\",input_filepath, output_filepath, \"www.google.com\"])"
   ]
  },
  {
   "cell_type": "code",
   "execution_count": 41,
   "metadata": {},
   "outputs": [],
   "source": [
    "if __name__ == \"__main__\":\n",
    "    import doctest\n",
    "    doctest.testmod()"
   ]
  },
  {
   "cell_type": "code",
   "execution_count": null,
   "metadata": {
    "collapsed": true
   },
   "outputs": [],
   "source": []
  }
 ],
 "metadata": {
  "kernelspec": {
   "display_name": "Python 3",
   "language": "python",
   "name": "python3"
  },
  "language_info": {
   "codemirror_mode": {
    "name": "ipython",
    "version": 3
   },
   "file_extension": ".py",
   "mimetype": "text/x-python",
   "name": "python",
   "nbconvert_exporter": "python",
   "pygments_lexer": "ipython3",
   "version": "3.6.1"
  }
 },
 "nbformat": 4,
 "nbformat_minor": 2
}
