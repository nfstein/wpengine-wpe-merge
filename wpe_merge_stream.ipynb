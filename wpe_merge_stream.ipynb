{
 "cells": [
  {
   "cell_type": "code",
   "execution_count": 17,
   "metadata": {
    "collapsed": true
   },
   "outputs": [],
   "source": [
    "from pandas import to_datetime #good flexible date interpereter\n",
    "import requests\n",
    "import sys\n",
    "import csv"
   ]
  },
  {
   "cell_type": "code",
   "execution_count": 18,
   "metadata": {
    "collapsed": true
   },
   "outputs": [],
   "source": [
    "input_filepath = \"fail_tests.csv\"\n",
    "output_filepath = \"out.txt\""
   ]
  },
  {
   "cell_type": "code",
   "execution_count": 19,
   "metadata": {
    "collapsed": true
   },
   "outputs": [],
   "source": [
    "# given dict with [\"Account ID\", \"Created On\", \"First Name\"] keys,\n",
    "# convert Account ID to integer and Created On to formatted datestring\n",
    "def verify_and_clean_input(input_dict):\n",
    "    output_dict = {}\n",
    "    try:\n",
    "        output_dict[\"Account ID\"] = int(input_dict[\"Account ID\"])\n",
    "        if output_dict[\"Account ID\"] < 0:\n",
    "            return False, {}, \"not a valid account id\"\n",
    "    except ValueError:\n",
    "        return False, {}, \"not a valid account id\"\n",
    "    \n",
    "    try:\n",
    "        output_dict[\"Created On\"] = to_datetime(input_dict[\"Created On\"], errors='coerce').strftime(\"%x\")\n",
    "    except ValueError:\n",
    "        output_dict[\"Created On\"] = \"\"\n",
    "    \n",
    "    output_dict[\"First Name\"] = input_dict[\"First Name\"]\n",
    "        \n",
    "    return True, output_dict, \"\""
   ]
  },
  {
   "cell_type": "code",
   "execution_count": 20,
   "metadata": {
    "collapsed": true
   },
   "outputs": [],
   "source": [
    "# queries api for \"Status\" and \"Created On\"(renamed \"Status Set On\") given a dict with \"Account ID\" key\n",
    "# returns filled out dict and success/failure message\n",
    "def query_and_extend(input_dict):\n",
    "    output_dict = input_dict\n",
    "    output_dict[\"Status\"] = \"\"\n",
    "    output_dict[\"Status Set On\"] = \"\"\n",
    "    account_id = input_dict[\"Account ID\"]\n",
    "    is_valid, returned_dict, message = query(account_id)\n",
    "        \n",
    "    # go ahead and try again once after backoff in case of connection problem, \n",
    "    # having problem with first query being denied bc of network problems\n",
    "    if not is_valid: \n",
    "        time.sleep(1)\n",
    "        is_valid, returned_dict, message = query(account_id)\n",
    "\n",
    "    if is_valid: \n",
    "        try:\n",
    "            # set Status Set On to response's created_on value for account_id\n",
    "            # could introduce check for status in set (\"good\", \"bad\", \"\")\n",
    "            output_dict[\"Status\"] = returned_dict[\"status\"]\n",
    "            status_returned = True\n",
    "            message = f\"Processed Account ID: {account_id} - Status: {returned_dict['status']} \"\n",
    "        except KeyError:\n",
    "            status_returned = False\n",
    "            message = f\"No status data included for Account ID - {account_id} \"\n",
    "            \n",
    "        if status_returned: # only try and set status date if status successfully set\n",
    "            try:\n",
    "                # set Status Set On to response's created_on value for account_id\n",
    "                # here choosing to write nan in event of bad date\n",
    "                output_dict[\"Status Set On\"] = \\\n",
    "                    to_datetime(returned_dict[\"created_on\"], errors='raise')\\\n",
    "                    .strftime(\"%x\")\n",
    "            except KeyError:\n",
    "                message = f\"No created_on date included for Account ID - {account_id}\"\n",
    "            except ValueError:\n",
    "                message = f\"Invalid date included for Account ID - {account_id}\"\n",
    "    return output_dict, message"
   ]
  },
  {
   "cell_type": "code",
   "execution_count": 21,
   "metadata": {
    "collapsed": true
   },
   "outputs": [],
   "source": [
    "# query accounts/account_id and determine if non-error json is returned\n",
    "# returns validity of response and the response\n",
    "def query(account_id):\n",
    "    is_valid = True\n",
    "    returned_dict = {}\n",
    "    message = \"\"\n",
    "    request = requests.get(f\"http://interview.wpengine.io/v1/accounts/{account_id}\")\n",
    "    \n",
    "    try: # check parseable response\n",
    "        returned_dict = request.json()\n",
    "    except ValueError:\n",
    "        message = f\"response not json parseable for account id {account_id}\"\n",
    "        is_valid = False\n",
    "        \n",
    "    try: # check not error message\n",
    "        message = f\"Account ID - {account_id} - {returned_dict['details']}\"\n",
    "        is_valid = False\n",
    "    except KeyError:\n",
    "        pass\n",
    "    return is_valid, returned_dict, message"
   ]
  },
  {
   "cell_type": "code",
   "execution_count": 23,
   "metadata": {},
   "outputs": [
    {
     "name": "stdout",
     "output_type": "stream",
     "text": [
      "not a valid account id\n",
      "not a valid account id\n",
      "not a valid account id\n",
      "Processed Account ID: 271 - Status: good \n",
      "No status data included for Account ID - 21 \n",
      "ERROR - csv row has incomplete data\n"
     ]
    }
   ],
   "source": [
    "with open(input_filepath, newline=\"\") as input_csv:\n",
    "    csvreader = csv.reader(input_csv, delimiter=\",\",)\n",
    "    \n",
    "    needed_input_columns = [\"Account ID\",\"First Name\", \"Created On\"]\n",
    "    needed_output_columns = [\"Account ID\",\"First Name\", \"Created On\", \"Status\", \"Status Set On\"]\n",
    "    headers = next(csvreader) #grab first row as headers\n",
    "    if not set(needed_input_columns).issubset(headers):\n",
    "        print('ERROR - input csv must contain columns [\"Account ID\",\"First Name\", \"Created On\"] as headers')\n",
    "    \n",
    "    with open(output_filepath, mode = \"w\", newline = \"\") as output_csv:\n",
    "        csvwriter = csv.DictWriter(output_csv, fieldnames = needed_output_columns)\n",
    "        csvwriter.writeheader()\n",
    "        \n",
    "        index_of = {}\n",
    "        for index,header in enumerate(headers):\n",
    "            index_of[header] = index\n",
    "        write_dict = {}\n",
    "        \n",
    "        #Loop through inputfile\n",
    "        for row in csvreader:\n",
    "            if len(row) != len(headers):\n",
    "                message = \"ERROR - csv row has incomplete data\"\n",
    "                still_valid = False\n",
    "            if still_valid:\n",
    "                # extract data from row, columns can be in any order\n",
    "                for column in needed_input_columns:\n",
    "                    write_dict[column] = row[index_of[column]]\n",
    "                still_valid, write_dict, message = verify_and_clean_input(write_dict)\n",
    "            if still_valid:\n",
    "                write_dict, message = query_and_extend(write_dict)\n",
    "                #only write to csv if all input data valid, query data nulled out if invalid\n",
    "                csvwriter.writerow(write_dict) \n",
    "            print(message)\n",
    "            \n",
    "        output_csv.close()\n",
    "    input_csv.close()"
   ]
  },
  {
   "cell_type": "code",
   "execution_count": null,
   "metadata": {
    "collapsed": true
   },
   "outputs": [],
   "source": []
  }
 ],
 "metadata": {
  "kernelspec": {
   "display_name": "Python 3",
   "language": "python",
   "name": "python3"
  },
  "language_info": {
   "codemirror_mode": {
    "name": "ipython",
    "version": 3
   },
   "file_extension": ".py",
   "mimetype": "text/x-python",
   "name": "python",
   "nbconvert_exporter": "python",
   "pygments_lexer": "ipython3",
   "version": "3.6.1"
  }
 },
 "nbformat": 4,
 "nbformat_minor": 2
}
