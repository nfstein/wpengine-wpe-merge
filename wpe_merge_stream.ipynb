{
 "cells": [
  {
   "cell_type": "code",
   "execution_count": 33,
   "metadata": {
    "collapsed": true
   },
   "outputs": [],
   "source": [
    "from pandas import to_datetime #good flexible date interpereter\n",
    "import requests\n",
    "import sys\n",
    "import os\n",
    "import csv\n",
    "from time import sleep"
   ]
  },
  {
   "cell_type": "code",
   "execution_count": 81,
   "metadata": {},
   "outputs": [],
   "source": [
    "input_filepath = \"fail_tests.csv\"\n",
    "input_filepath = \"test-data.csv\"\n",
    "output_filepath = \"out.txt\""
   ]
  },
  {
   "cell_type": "code",
   "execution_count": 84,
   "metadata": {},
   "outputs": [
    {
     "data": {
      "text/plain": [
       "(True,\n",
       " {'Account ID': 314159, 'Created On': '01/12/13', 'First Name': 'Ka-el'},\n",
       " '')"
      ]
     },
     "execution_count": 84,
     "metadata": {},
     "output_type": "execute_result"
    }
   ],
   "source": [
    "# given dict with [\"Account ID\", \"Created On\", \"First Name\"] keys,\n",
    "# convert Account ID to integer and Created On to formatted datestring\n",
    "def verify_and_clean_input(input_dict):\n",
    "    output_dict = {}\n",
    "    try:\n",
    "        output_dict[\"Account ID\"] = int(input_dict[\"Account ID\"])\n",
    "        if output_dict[\"Account ID\"] < 0:\n",
    "            return False, {}, \"not a valid account id\"\n",
    "    except ValueError:\n",
    "        return False, {}, \"not a valid account id\"\n",
    "    \n",
    "    try:\n",
    "        output_dict[\"Created On\"] = to_datetime(input_dict[\"Created On\"], errors='coerce').strftime(\"%x\")\n",
    "    except ValueError:\n",
    "        output_dict[\"Created On\"] = \"\"\n",
    "    \n",
    "    output_dict[\"First Name\"] = input_dict[\"First Name\"]\n",
    "        \n",
    "    return True, output_dict, \"\"\n",
    "\n",
    "verify_and_clean_input({\"Account ID\": 314159,\"Account Name\": \"superman\",\"First Name\": \"Ka-el\",\"Created On\": \"1/12/13\"})\n",
    "#(True, {'Account ID': 314159, 'Created On': '01/12/13', 'First Name': 'Ka-el'},'')"
   ]
  },
  {
   "cell_type": "code",
   "execution_count": 87,
   "metadata": {},
   "outputs": [
    {
     "name": "stdout",
     "output_type": "stream",
     "text": [
      "({'Account ID': 314159, 'Created On': '01/12/13', 'First Name': 'Ka-el', 'Status': 'good', 'Status Set On': '01/12/12'}, 'Processed Account ID: 314159 - Status: good ')\n",
      "({'Account ID': 271, 'Status': 'good', 'Status Set On': '03/22/11'}, 'Processed Account ID: 271 - Status: good ')\n"
     ]
    }
   ],
   "source": [
    "# combines input_dict with status and created_on from a query response dict\n",
    "# maps status -> \"Status\", and created_on -> \"Status Set On\"\n",
    "# returns filled out dict and success/failure message\n",
    "def extend(input_dict, response_dict):\n",
    "    output_dict = input_dict\n",
    "    output_dict[\"Status\"] = \"\"\n",
    "    output_dict[\"Status Set On\"] = \"\"\n",
    "    message = response_dict[\"message\"]\n",
    "    account_id = input_dict[\"Account ID\"]\n",
    "\n",
    "    if response_dict[\"valid\"]: \n",
    "        # set Status Set On to response's created_on value for account_id\n",
    "        # could introduce check for status in set (\"good\", \"bad\", \"\")\n",
    "        if \"status\" in response_dict:\n",
    "            output_dict[\"Status\"] = response_dict[\"status\"]\n",
    "            message = f\"Processed Account ID: {account_id} - Status: {response_dict['status']} \"\n",
    "        else:\n",
    "            message = f\"No status data included for Account ID - {account_id} \"\n",
    "            \n",
    "        # only try and set status date if status successfully set\n",
    "        if \"created_on\" in response_dict and \"status\" in response_dict:\n",
    "            try:\n",
    "                # set Status Set On to response's created_on value for account_id\n",
    "                # here choosing to write \"\" in event of bad date\n",
    "                output_dict[\"Status Set On\"] = \\\n",
    "                    to_datetime(response_dict[\"created_on\"], errors='raise')\\\n",
    "                    .strftime(\"%x\")\n",
    "            except ValueError:\n",
    "                # has status and created on but created on not valid\n",
    "                message = f\"Invalid date included for Account ID - {account_id}\"\n",
    "        else:\n",
    "            if \"status\" not in response_dict:\n",
    "                message = f\"No created_on date included for Account ID - {account_id}\"\n",
    "                        \n",
    "    return output_dict, message\n",
    "print(extend({'Account ID': 314159, 'Created On': '01/12/13', 'First Name': 'Ka-el'}, {'account_id': 314159, 'status': 'good', 'created_on': '2012-01-12', 'message': '', 'valid': True}))\n",
    "#({'Account ID': 314159, 'Created On': '01/12/13', 'First Name': 'Ka-el', 'Status': 'good', 'Status Set On': '01/12/12'}, 'Processed Account ID: 314159 - Status: good ')\n",
    "print(extend({\"Account ID\": 271},{'message': \"\", \"valid\": True, 'status': 'good', 'created_on': '2011-03-22'}))\n",
    "#({'Account ID': 271, 'Status': 'good', 'Status Set On': '03/22/11'}, 'Processed Account ID: 271 - Status: good ')"
   ]
  },
  {
   "cell_type": "code",
   "execution_count": 88,
   "metadata": {},
   "outputs": [
    {
     "name": "stdout",
     "output_type": "stream",
     "text": [
      "{'account_id': 271, 'status': 'good', 'created_on': '2011-03-22', 'message': '', 'valid': True}\n",
      "{'account_id': 314159, 'status': 'good', 'created_on': '2012-01-12', 'message': '', 'valid': True}\n",
      "{'detail': 'Not found.', 'message': 'Account ID - 21 - Not found.', 'valid': False}\n"
     ]
    }
   ],
   "source": [
    "# query accounts/account_id and determine if non-error json is returned\n",
    "# returns validity of response and the response\n",
    "def query(account_id):\n",
    "    data_is_valid = True\n",
    "    query_success = False\n",
    "    returned_dict = {}\n",
    "    message = \"\"\n",
    "    attempt_num = 0\n",
    "    \n",
    "    while (attempt_num < 3) and not query_success:\n",
    "        sleep(3**attempt_num-1) #backoff [0,2,8] seconds\n",
    "        attempt_num += 1\n",
    "        query_string = f\"http://interview.wpengine.io/v1/accounts/{account_id}\"\n",
    "        request = requests.get(query_string)\n",
    "\n",
    "        if request.status_code == 200:\n",
    "            returned_dict = request.json()\n",
    "            data_is_valid = True\n",
    "            query_success = True\n",
    "        else:\n",
    "            data_is_valid = False\n",
    "        \n",
    "        if request.status_code >= 400:\n",
    "            try: # check parseable response\n",
    "                returned_dict = request.json()\n",
    "                message = f\"Query - {query_string} - {returned_dict['detail']}\"\n",
    "                query_success = True # but data not found\n",
    "            except ValueError:\n",
    "                message = f\"Response not json parseable for query {query_string}\"\n",
    "                query_success = False # requery\n",
    "    \n",
    "    returned_dict[\"message\"] = message\n",
    "    returned_dict[\"valid\"] = data_is_valid\n",
    "    return returned_dict\n",
    "print(query(271))\n",
    "#{'account_id': 271, 'status': 'good', 'created_on': '2011-03-22', 'message': '', 'valid': True}\n",
    "print(query(314159))\n",
    "#{'account_id': 314159, 'status': 'good', 'created_on': '2012-01-12', 'message': '', 'valid': True}\n",
    "print(query(21))\n",
    "#{'detail': 'Not found.', 'message': 'Account ID - 21 - Not found.', 'valid': False}"
   ]
  },
  {
   "cell_type": "code",
   "execution_count": 75,
   "metadata": {},
   "outputs": [],
   "source": [
    "def main(args):\n",
    "    \n",
    "    if len(args) != 3:\n",
    "        return print(\"ERROR - invoke program as: wpe_merge <input_file.csv> <output_file.csv>\")\n",
    "    input_filepath = args[1]\n",
    "    output_filepath = args[2]\n",
    "    \n",
    "    '''if not os.path.exists(input_filepath):\n",
    "        return print(f\"ERROR - input filepath {input_filepath} does not exist\")\n",
    "    \n",
    "    path_to_output = output_filepath.rpartition(\"/\")[0]\n",
    "    if path_to_output != \"\":\n",
    "        os.makedirs(path_to_output, exist_ok=True)\n",
    "    \n",
    "    if input_filepath[-4:] != \".csv\" or output_filepath[-4:] != \".csv\": \n",
    "        return print(\"ERROR - filepaths must be valid csv files\")'''\n",
    "    \n",
    "    with open(input_filepath, newline=\"\") as input_csv:\n",
    "        csvreader = csv.reader(input_csv, delimiter=\",\",)\n",
    "\n",
    "        needed_input_columns = [\"Account ID\",\"First Name\", \"Created On\"]\n",
    "        needed_output_columns = [\"Account ID\",\"First Name\", \"Created On\", \"Status\", \"Status Set On\"]\n",
    "        headers = next(csvreader) #grab first row as headers\n",
    "        if not set(needed_input_columns).issubset(headers):\n",
    "            print('ERROR - input csv must contain columns [\"Account ID\",\"First Name\", \"Created On\"] as headers')\n",
    "\n",
    "        with open(output_filepath, mode = \"w\", newline = \"\") as output_csv:\n",
    "            csvwriter = csv.DictWriter(output_csv, fieldnames = needed_output_columns)\n",
    "            csvwriter.writeheader()\n",
    "\n",
    "            index_of = {}\n",
    "            for index,header in enumerate(headers):\n",
    "                index_of[header] = index\n",
    "            write_dict = {}\n",
    "\n",
    "            #Loop through inputfile\n",
    "            for row in csvreader:\n",
    "                still_valid = True\n",
    "                if len(row) != len(headers):\n",
    "                    message = \"ERROR - csv row has incomplete data\"\n",
    "                    still_valid = False\n",
    "                if still_valid:\n",
    "                    # extract data from row, columns can be in any order\n",
    "                    for column in needed_input_columns:\n",
    "                        write_dict[column] = row[index_of[column]]\n",
    "                    still_valid, write_dict, message = verify_and_clean_input(write_dict)\n",
    "                if still_valid:\n",
    "                    write_dict, message = extend(write_dict, query(write_dict[\"Account ID\"]))\n",
    "                    #only write to csv if all input data valid, query data nulled out if invalid\n",
    "                    csvwriter.writerow(write_dict) \n",
    "                print(message)\n",
    "\n",
    "            output_csv.close()\n",
    "        input_csv.close()\n",
    "        "
   ]
  },
  {
   "cell_type": "code",
   "execution_count": 82,
   "metadata": {},
   "outputs": [
    {
     "name": "stdout",
     "output_type": "stream",
     "text": [
      "http://interview.wpengine.io/v1/accounts/314159\n",
      "Processed Account ID: 314159 - Status: good \n",
      "http://interview.wpengine.io/v1/accounts/271\n",
      "Processed Account ID: 271 - Status: good \n",
      "http://interview.wpengine.io/v1/accounts/8675309\n",
      "Processed Account ID: 8675309 - Status: closed \n",
      "http://interview.wpengine.io/v1/accounts/99999\n",
      "Processed Account ID: 99999 - Status: fraud \n"
     ]
    }
   ],
   "source": [
    "main([\"\",input_filepath, output_filepath])"
   ]
  },
  {
   "cell_type": "code",
   "execution_count": null,
   "metadata": {
    "collapsed": true
   },
   "outputs": [],
   "source": [
    "import unittest\n",
    "\n",
    "class WidgetTestCase(unittest.TestCase):\n",
    "    def setUp(self):\n",
    "        self.widget = Widget('The widget')\n",
    "\n",
    "    def test_default_size(self):\n",
    "        self.assertEqual(self.widget.size(), (50,50),\n",
    "                         'incorrect default size')\n",
    "\n",
    "    def test_resize(self):\n",
    "        self.widget.resize(100,150)\n",
    "        self.assertEqual(self.widget.size(), (100,150),\n",
    "                         'wrong size after resize')\n"
   ]
  }
 ],
 "metadata": {
  "kernelspec": {
   "display_name": "Python 3",
   "language": "python",
   "name": "python3"
  },
  "language_info": {
   "codemirror_mode": {
    "name": "ipython",
    "version": 3
   },
   "file_extension": ".py",
   "mimetype": "text/x-python",
   "name": "python",
   "nbconvert_exporter": "python",
   "pygments_lexer": "ipython3",
   "version": "3.6.1"
  }
 },
 "nbformat": 4,
 "nbformat_minor": 2
}
