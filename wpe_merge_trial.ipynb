{
 "cells": [
  {
   "cell_type": "code",
   "execution_count": 2,
   "metadata": {
    "collapsed": true
   },
   "outputs": [],
   "source": [
    "import pandas as pd"
   ]
  },
  {
   "cell_type": "code",
   "execution_count": 3,
   "metadata": {},
   "outputs": [],
   "source": [
    "# importing with pandas assuming accurate headers and reasonable size of data\n",
    "raw_data = pd.read_csv(\"test-data.csv\")"
   ]
  },
  {
   "cell_type": "code",
   "execution_count": 4,
   "metadata": {
    "collapsed": true
   },
   "outputs": [],
   "source": [
    "# some failure testing, do not include in live\n",
    "raw_data = raw_data.append(pd.read_csv(\"fail_tests.csv\"))"
   ]
  },
  {
   "cell_type": "code",
   "execution_count": 5,
   "metadata": {},
   "outputs": [
    {
     "data": {
      "text/html": [
       "<div>\n",
       "<style>\n",
       "    .dataframe thead tr:only-child th {\n",
       "        text-align: right;\n",
       "    }\n",
       "\n",
       "    .dataframe thead th {\n",
       "        text-align: left;\n",
       "    }\n",
       "\n",
       "    .dataframe tbody tr th {\n",
       "        vertical-align: top;\n",
       "    }\n",
       "</style>\n",
       "<table border=\"1\" class=\"dataframe\">\n",
       "  <thead>\n",
       "    <tr style=\"text-align: right;\">\n",
       "      <th></th>\n",
       "      <th>Account ID</th>\n",
       "      <th>Account Name</th>\n",
       "      <th>First Name</th>\n",
       "      <th>Created On</th>\n",
       "    </tr>\n",
       "  </thead>\n",
       "  <tbody>\n",
       "    <tr>\n",
       "      <th>0</th>\n",
       "      <td>314159</td>\n",
       "      <td>superman</td>\n",
       "      <td>Ka-el</td>\n",
       "      <td>1/12/13</td>\n",
       "    </tr>\n",
       "    <tr>\n",
       "      <th>1</th>\n",
       "      <td>271</td>\n",
       "      <td>batman</td>\n",
       "      <td>Bruce</td>\n",
       "      <td>11/19/16</td>\n",
       "    </tr>\n",
       "    <tr>\n",
       "      <th>2</th>\n",
       "      <td>8675309</td>\n",
       "      <td>hulk</td>\n",
       "      <td>Bruce</td>\n",
       "      <td>2/22/99</td>\n",
       "    </tr>\n",
       "    <tr>\n",
       "      <th>3</th>\n",
       "      <td>99999</td>\n",
       "      <td>batgirl</td>\n",
       "      <td>Yvonne</td>\n",
       "      <td>3/5/13</td>\n",
       "    </tr>\n",
       "    <tr>\n",
       "      <th>0</th>\n",
       "      <td>asdf</td>\n",
       "      <td>thisEntryShouldBeDeleted</td>\n",
       "      <td>NaN</td>\n",
       "      <td>None</td>\n",
       "    </tr>\n",
       "    <tr>\n",
       "      <th>1</th>\n",
       "      <td>NaN</td>\n",
       "      <td>thisEntryShouldBeDeleted</td>\n",
       "      <td>NaN</td>\n",
       "      <td>whenever</td>\n",
       "    </tr>\n",
       "    <tr>\n",
       "      <th>2</th>\n",
       "      <td>NaN</td>\n",
       "      <td>thisEntryShouldBeDeleted</td>\n",
       "      <td>NaN</td>\n",
       "      <td>2/4/12</td>\n",
       "    </tr>\n",
       "    <tr>\n",
       "      <th>3</th>\n",
       "      <td>271</td>\n",
       "      <td>thisEntryShouldBeDeleted</td>\n",
       "      <td>NaN</td>\n",
       "      <td>11/19/16</td>\n",
       "    </tr>\n",
       "    <tr>\n",
       "      <th>4</th>\n",
       "      <td>21</td>\n",
       "      <td>NaN</td>\n",
       "      <td>NaN</td>\n",
       "      <td>NaN</td>\n",
       "    </tr>\n",
       "  </tbody>\n",
       "</table>\n",
       "</div>"
      ],
      "text/plain": [
       "  Account ID               Account Name First Name Created On\n",
       "0     314159                   superman      Ka-el    1/12/13\n",
       "1        271                     batman      Bruce   11/19/16\n",
       "2    8675309                       hulk      Bruce    2/22/99\n",
       "3      99999                    batgirl     Yvonne     3/5/13\n",
       "0       asdf   thisEntryShouldBeDeleted        NaN       None\n",
       "1        NaN   thisEntryShouldBeDeleted        NaN   whenever\n",
       "2        NaN   thisEntryShouldBeDeleted        NaN     2/4/12\n",
       "3        271   thisEntryShouldBeDeleted        NaN   11/19/16\n",
       "4         21                        NaN        NaN        NaN"
      ]
     },
     "execution_count": 5,
     "metadata": {},
     "output_type": "execute_result"
    }
   ],
   "source": [
    "raw_data"
   ]
  },
  {
   "cell_type": "code",
   "execution_count": null,
   "metadata": {
    "collapsed": true
   },
   "outputs": [],
   "source": []
  }
 ],
 "metadata": {
  "kernelspec": {
   "display_name": "Python 3",
   "language": "python",
   "name": "python3"
  },
  "language_info": {
   "codemirror_mode": {
    "name": "ipython",
    "version": 3
   },
   "file_extension": ".py",
   "mimetype": "text/x-python",
   "name": "python",
   "nbconvert_exporter": "python",
   "pygments_lexer": "ipython3",
   "version": "3.6.1"
  }
 },
 "nbformat": 4,
 "nbformat_minor": 2
}
